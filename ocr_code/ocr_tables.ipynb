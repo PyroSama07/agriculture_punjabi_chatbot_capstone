{
 "cells": [
  {
   "cell_type": "code",
   "execution_count": 1,
   "id": "8d0e05c6",
   "metadata": {},
   "outputs": [],
   "source": [
    "import pytesseract as pt\n",
    "import numpy as np\n",
    "import cv2\n",
    "import matplotlib.pyplot as plt\n",
    "import os\n",
    "from pdf2image import convert_from_path"
   ]
  },
  {
   "cell_type": "code",
   "execution_count": 2,
   "id": "83c22831",
   "metadata": {},
   "outputs": [],
   "source": [
    "def area(approx):\n",
    "    x = approx[:,0,0]\n",
    "    y = approx[:,0,1]\n",
    "    return (max(x)-min(x))*(max(y)-min(y))\n",
    "\n",
    "def start_point(approx):\n",
    "    x = approx[:,0,0]\n",
    "    y = approx[:,0,1]\n",
    "    return (min(x),max(y))\n",
    "\n",
    "def end_point(approx):\n",
    "    x = approx[:,0,0]\n",
    "    y = approx[:,0,1]\n",
    "    return (max(x),min(y))\n",
    "\n",
    "def get_points(approx):\n",
    "    x = approx[:,0,0]\n",
    "    y = approx[:,0,1]\n",
    "    return (min(x),max(x),min(y),max(y))\n",
    "\n",
    "def get_all_points(image):\n",
    "    gray = cv2.cvtColor(image, cv2.COLOR_BGR2GRAY)\n",
    "    gray = cv2.GaussianBlur(gray, (5, 5), 0)\n",
    "    edges = cv2.Canny(gray, 50, 150, apertureSize=3)\n",
    "    contours, _ = cv2.findContours(edges, cv2.RETR_EXTERNAL, cv2.CHAIN_APPROX_SIMPLE)\n",
    "    coordinates = []\n",
    "    for contour in contours:\n",
    "        epsilon = 0.05 * cv2.arcLength(contour, True)\n",
    "        approx = cv2.approxPolyDP(contour, epsilon, True)\n",
    "        if len(approx) == 4:\n",
    "            if (area(approx)>5000):\n",
    "                coordinates.append(get_points(approx))\n",
    "#                 print(area(approx))\n",
    "#                 cv2.rectangle(image, start_point(approx),end_point(approx), (0, 255, 255), 5)\n",
    "    return coordinates\n",
    "\n",
    "def get_tables(image):\n",
    "    coordinates = get_all_points(image)\n",
    "#     print(len(coordinates))\n",
    "    tables = []\n",
    "    for coordinate in coordinates:\n",
    "        tables.append(image[coordinate[2]:coordinate[3],coordinate[0]:coordinate[1]])\n",
    "    return tables\n",
    "\n",
    "def get_image_with_table(img):\n",
    "    image = img\n",
    "    gray = cv2.cvtColor(image, cv2.COLOR_BGR2GRAY)\n",
    "    gray = cv2.GaussianBlur(gray, (5, 5), 0)\n",
    "    edges = cv2.Canny(gray, 50, 150, apertureSize=3)\n",
    "    contours, _ = cv2.findContours(edges, cv2.RETR_EXTERNAL, cv2.CHAIN_APPROX_SIMPLE)\n",
    "    coordinates = []\n",
    "    for contour in contours:\n",
    "        epsilon = 0.05 * cv2.arcLength(contour, True)\n",
    "        approx = cv2.approxPolyDP(contour, epsilon, True)\n",
    "        if len(approx) == 4:\n",
    "            if (area(approx)>5000):\n",
    "                coordinates.append(get_points(approx))\n",
    "#                 print(area(approx))\n",
    "                cv2.rectangle(image, start_point(approx),end_point(approx), (0, 255, 255), 5)\n",
    "    return image"
   ]
  },
  {
   "cell_type": "code",
   "execution_count": 3,
   "id": "66d65e03",
   "metadata": {},
   "outputs": [],
   "source": [
    "books_punjabi = sorted(['data_books/punjabi/'+book for book in os.listdir('data_books/punjabi/')])"
   ]
  },
  {
   "cell_type": "code",
   "execution_count": 13,
   "id": "e2984366",
   "metadata": {},
   "outputs": [],
   "source": [
    "images = convert_from_path(books_punjabi[4],dpi=300)"
   ]
  },
  {
   "cell_type": "code",
   "execution_count": 14,
   "id": "ec0191d8",
   "metadata": {
    "scrolled": true
   },
   "outputs": [],
   "source": [
    "# image = cv2.imread('Screenshot from 2024-04-19 22-58-45.png')\n",
    "tables = [get_tables(np.array(image)) for image in images]\n",
    "# tables = [cv2.cvtColor(table, cv2.COLOR_BGR2GRAY) for table in tables]\n",
    "# th, im_gray_th_otsu = cv2.threshold(tables[0], 0, 255, cv2.THRESH_OTSU)"
   ]
  },
  {
   "cell_type": "raw",
   "id": "c986b89a",
   "metadata": {},
   "source": [
    "plt.imsave('table-small-2.png',tables[13][0])\n",
    "plt.imsave('table-large-2.png',tables[17][0])"
   ]
  },
  {
   "cell_type": "code",
   "execution_count": null,
   "id": "acefd591",
   "metadata": {},
   "outputs": [],
   "source": [
    "table_small = cv2.imread('table-small-2.png')\n",
    "table_large = cv2.imread('table-large-2.png')"
   ]
  },
  {
   "cell_type": "code",
   "execution_count": null,
   "id": "cb9c67d2",
   "metadata": {},
   "outputs": [],
   "source": [
    "plt.figure(figsize=(15,15))\n",
    "plt.imshow(ass)"
   ]
  },
  {
   "cell_type": "code",
   "execution_count": 4,
   "id": "662a82c4",
   "metadata": {},
   "outputs": [],
   "source": [
    "def get_cells_coordinates(image):\n",
    "    img = cv2.cvtColor(image, cv2.COLOR_BGR2GRAY)\n",
    "    thresh1,img = cv2.threshold(img,128,255,cv2.THRESH_OTSU)\n",
    "    img = cv2.bitwise_not(img)\n",
    "    kernel = cv2.getStructuringElement(cv2.MORPH_RECT, (2, 2))\n",
    "    vertical_kernel = cv2.getStructuringElement(cv2.MORPH_RECT, (1, img.shape[1]//150))\n",
    "    hor_kernel = cv2.getStructuringElement(cv2.MORPH_RECT, (np.array(img).shape[1]//150, 1))\n",
    "\n",
    "    vertical_lines = cv2.erode(img, vertical_kernel, iterations=5)\n",
    "    vertical_lines = cv2.dilate(vertical_lines, vertical_kernel, iterations=5)\n",
    "\n",
    "    horizontal_lines = cv2.erode(img, hor_kernel, iterations=30)\n",
    "    horizontal_lines = cv2.dilate(horizontal_lines, hor_kernel, iterations=30)\n",
    "\n",
    "    vertical_horizontal_lines = cv2.addWeighted(vertical_lines, 0.5, horizontal_lines, 0.5, 0.0)\n",
    "    vertical_horizontal_lines = cv2.erode(~vertical_horizontal_lines, kernel, iterations=3)\n",
    "\n",
    "    thresh, vertical_horizontal_lines = cv2.threshold(vertical_horizontal_lines,128,255,cv2.THRESH_OTSU)\n",
    "    b_image = cv2.bitwise_not(cv2.bitwise_xor(img,vertical_horizontal_lines))\n",
    "\n",
    "    contours, hierarchy = cv2.findContours(vertical_horizontal_lines, cv2.RETR_TREE, cv2.CHAIN_APPROX_SIMPLE)\n",
    "    boundingBoxes = [cv2.boundingRect(c) for c in contours]\n",
    "    (contours, boundingBoxes) = zip(*sorted(zip(contours, boundingBoxes),key=lambda x:x[1][1]))\n",
    "\n",
    "    return boundingBoxes\n",
    "\n",
    "def get_text_csv(bounding_boxes,image):\n",
    "    cols = len(np.unique(np.array(bounding_boxes)[:,0]))\n",
    "    rows = len(np.unique(np.array(bounding_boxes)[:,1]))\n",
    "    \n",
    "    rows_start_points = sorted(np.unique(np.array(bounding_boxes)[:,1]))\n",
    "    cols_start_points = sorted(np.unique(np.array(bounding_boxes)[:,0]))\n",
    "    rows_end_points = sorted(np.unique(np.array(bounding_boxes)[:,1]+np.array(bounding_boxes)[:,3]))\n",
    "    cols_end_points = sorted(np.unique(np.array(bounding_boxes)[:,0]+np.array(bounding_boxes)[:,2]))\n",
    "    \n",
    "    table = []\n",
    "    for i in range(rows):\n",
    "        table.append([])\n",
    "        for j in range(cols):\n",
    "            table[i].append(())\n",
    "\n",
    "    for idx,box in enumerate(bounding_boxes):\n",
    "        col_start, row_start, w, h = box\n",
    "        row_end, col_end = row_start+h,col_start+w\n",
    "        #     print(rows_start_points.index(row_start)-rows_end_points.index(row_end))\n",
    "        for i in range(rows_start_points.index(row_start),rows_end_points.index(row_end)+1):\n",
    "            for j in range(cols_start_points.index(col_start),cols_end_points.index(col_end)+1):\n",
    "                table[i][j]=box\n",
    "#                 print(i,j,idx)\n",
    "#     display_cell(image,table[7][0])\n",
    "    # text = []\n",
    "    all_text = ''\n",
    "    for idx,row in enumerate(table):\n",
    "    #     text.append([])\n",
    "        for cell in row:\n",
    "            x, y, w, h = cell\n",
    "            ocr_text = pt.image_to_string(image[y:y+h,x:x+w],config='--psm 6',\n",
    "                                          lang='pan').replace('\\n','').replace('\\x0c','').replace('_','')\n",
    "#             print(ocr_text)\n",
    "            all_text = all_text+ocr_text+','\n",
    "        #         text[idx].append(ocr_text)\n",
    "        all_text=all_text+'\\n'\n",
    "    return all_text"
   ]
  },
  {
   "cell_type": "code",
   "execution_count": null,
   "id": "cd44b708",
   "metadata": {},
   "outputs": [],
   "source": [
    "bounding_boxes = get_cells_coordinates(table_large)"
   ]
  },
  {
   "cell_type": "code",
   "execution_count": 5,
   "id": "45626757",
   "metadata": {},
   "outputs": [],
   "source": [
    "def display_cell(image,bounding_box):\n",
    "    x, y, w, h = bounding_box\n",
    "    plt.imshow(image[y:y+h,x:x+w])\n",
    "    print(pt.image_to_string(image[y:y+h,x:x+w],config='--psm 6 --oem 3',lang='pan'))"
   ]
  },
  {
   "cell_type": "code",
   "execution_count": null,
   "id": "6f0366c8",
   "metadata": {},
   "outputs": [],
   "source": [
    "plt.imsave('table-1cell.png',tables[210][0])"
   ]
  },
  {
   "cell_type": "code",
   "execution_count": null,
   "id": "299f3769",
   "metadata": {},
   "outputs": [],
   "source": [
    "ass = cv2.imread('table-1cell.png')"
   ]
  },
  {
   "cell_type": "code",
   "execution_count": null,
   "id": "1c025baa",
   "metadata": {},
   "outputs": [],
   "source": [
    "bounding_boxes = get_cells_coordinates(ass)\n",
    "ocr = get_text_tsv(bounding_boxes,ass)"
   ]
  },
  {
   "cell_type": "code",
   "execution_count": 10,
   "id": "89c66103",
   "metadata": {
    "scrolled": true
   },
   "outputs": [],
   "source": [
    "all_text = ''\n",
    "for idx,table in enumerate(tables):\n",
    "#     print(idx)\n",
    "    all_text = all_text + f'page-{idx}\\n'\n",
    "    for curr in table:\n",
    "        try:\n",
    "#             print(idx,'asd')\n",
    "            bounding_boxes = get_cells_coordinates(curr)\n",
    "#             print(len(bounding_boxes))\n",
    "            ocr = get_text_csv(bounding_boxes,curr)\n",
    "            all_text = all_text + ocr + '\\n'\n",
    "        except:\n",
    "            continue\n",
    "    all_text = all_text + '\\n\\n\\n\\n'"
   ]
  },
  {
   "cell_type": "code",
   "execution_count": 12,
   "id": "4defb87c",
   "metadata": {},
   "outputs": [],
   "source": [
    "output_file = 'data_books/ocr_punjabi/pp_kharifs_tables.txt'\n",
    "f=open(output_file,'w')\n",
    "f.write(all_text)\n",
    "f.close()"
   ]
  },
  {
   "cell_type": "code",
   "execution_count": 18,
   "id": "509085c1",
   "metadata": {},
   "outputs": [],
   "source": [
    "all_text = ''\n",
    "for idx,table in enumerate(tables):\n",
    "    all_text = all_text + f'page-{idx}\\n'\n",
    "    for curr in table:\n",
    "        try:\n",
    "            ocr = pt.image_to_string(curr,config='--psm 6',lang='pan')\n",
    "            all_text = all_text + ocr + '\\n'\n",
    "        except:\n",
    "            continue\n",
    "    all_text = all_text + '\\n\\n\\n\\n'"
   ]
  },
  {
   "cell_type": "code",
   "execution_count": 20,
   "id": "71e592ed",
   "metadata": {},
   "outputs": [],
   "source": [
    "output_file = 'data_books/ocr_punjabi/pp_kharifs_notes.txt'\n",
    "f=open(output_file,'w')\n",
    "f.write(all_text)\n",
    "f.close()"
   ]
  },
  {
   "cell_type": "code",
   "execution_count": 21,
   "id": "9d898445",
   "metadata": {},
   "outputs": [
    {
     "name": "stdout",
     "output_type": "stream",
     "text": [
      "Once deleted, variables cannot be recovered. Proceed (y/[n])? y\n"
     ]
    }
   ],
   "source": [
    "%reset"
   ]
  },
  {
   "cell_type": "code",
   "execution_count": null,
   "id": "bb00de99",
   "metadata": {},
   "outputs": [],
   "source": []
  }
 ],
 "metadata": {
  "kernelspec": {
   "display_name": "convo environment",
   "language": "python",
   "name": "convo_env"
  },
  "language_info": {
   "codemirror_mode": {
    "name": "ipython",
    "version": 3
   },
   "file_extension": ".py",
   "mimetype": "text/x-python",
   "name": "python",
   "nbconvert_exporter": "python",
   "pygments_lexer": "ipython3",
   "version": "3.10.12"
  }
 },
 "nbformat": 4,
 "nbformat_minor": 5
}

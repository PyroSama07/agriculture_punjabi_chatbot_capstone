{
 "cells": [
  {
   "cell_type": "code",
   "execution_count": null,
   "id": "fe84e546-a16b-49f7-8560-85429d4814d2",
   "metadata": {},
   "outputs": [],
   "source": [
    "!pip3 install SpeechRecognition"
   ]
  },
  {
   "cell_type": "code",
   "execution_count": null,
   "id": "0fee25b8-4fbf-4d17-abfd-4a247945c7f2",
   "metadata": {},
   "outputs": [],
   "source": [
    "!pip3 install pyaudio"
   ]
  },
  {
   "cell_type": "code",
   "execution_count": 1,
   "id": "e8d98922-51fc-48ec-a28d-37cc0f914344",
   "metadata": {},
   "outputs": [
    {
     "name": "stdout",
     "output_type": "stream",
     "text": [
      "Please speak something in Punjabi...\n",
      "You said: ਮੇਰਾ ਨਾਮ ਤੇਜ਼ ਵੀਰ ਸਿੰਘ ਹੈ\n"
     ]
    }
   ],
   "source": [
    "#speech to text\n",
    "import speech_recognition as sr\n",
    "\n",
    "# Initialize recognizer\n",
    "recognizer = sr.Recognizer()\n",
    "\n",
    "# Capture audio from the microphone\n",
    "with sr.Microphone() as source:\n",
    "    print(\"Please speak something in Punjabi...\")\n",
    "    recognizer.adjust_for_ambient_noise(source)  # Adjust for ambient noise\n",
    "    audio = recognizer.listen(source)\n",
    "\n",
    "# Recognize speech using Google Speech Recognition\n",
    "try:\n",
    "    text = recognizer.recognize_google(audio, language=\"pa-IN\")\n",
    "    print(f\"You said: {text}\")\n",
    "except sr.UnknownValueError:\n",
    "    print(\"Sorry, I could not understand the audio.\")\n",
    "except sr.RequestError:\n",
    "    print(\"Could not request results from Google Speech Recognition service.\")"
   ]
  },
  {
   "cell_type": "code",
   "execution_count": null,
   "id": "28153958-aff4-406b-abbf-b7f0d84f46e5",
   "metadata": {},
   "outputs": [],
   "source": [
    "!pip3 install gtts playsound"
   ]
  },
  {
   "cell_type": "code",
   "execution_count": 2,
   "id": "36847a31-4200-48ea-bff6-9e99602fd00c",
   "metadata": {},
   "outputs": [],
   "source": [
    "#text to speech\n",
    "from gtts import gTTS\n",
    "import playsound\n",
    "import os\n",
    "\n",
    "text = \"ਮੇਰਾ ਨਾਮ ਤੇਜਵੀਰ ਸਿੰਘ ਹੈ\"  # Example text in Punjabi\n",
    "\n",
    "# Create a gTTS object with the text and language\n",
    "tts = gTTS(text=text, lang='pa')\n",
    "\n",
    "# Save the converted speech to a file\n",
    "filename = \"output.mp3\"\n",
    "tts.save(filename)\n",
    "\n",
    "# Play the converted speech\n",
    "playsound.playsound(filename)\n",
    "\n",
    "# Optionally, remove the file after playback\n",
    "os.remove(filename)"
   ]
  },
  {
   "cell_type": "code",
   "execution_count": null,
   "id": "ca74bf59-491b-4bc4-9767-4e0713fff272",
   "metadata": {},
   "outputs": [],
   "source": []
  }
 ],
 "metadata": {
  "kernelspec": {
   "display_name": "Python 3 (ipykernel)",
   "language": "python",
   "name": "python3"
  },
  "language_info": {
   "codemirror_mode": {
    "name": "ipython",
    "version": 3
   },
   "file_extension": ".py",
   "mimetype": "text/x-python",
   "name": "python",
   "nbconvert_exporter": "python",
   "pygments_lexer": "ipython3",
   "version": "3.11.7"
  }
 },
 "nbformat": 4,
 "nbformat_minor": 5
}

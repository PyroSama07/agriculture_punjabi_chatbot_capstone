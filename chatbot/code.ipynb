{
 "cells": [
  {
   "cell_type": "code",
   "execution_count": 242,
   "id": "82c4812b-a29d-406e-aa9b-df44d44d41e4",
   "metadata": {},
   "outputs": [],
   "source": [
    "from dotenv import load_dotenv\n",
    "import os\n",
    "import warnings\n",
    "\n",
    "load_dotenv()\n",
    "warnings.filterwarnings('ignore')"
   ]
  },
  {
   "cell_type": "markdown",
   "id": "d47e1e2b-ae49-4544-9cdc-4afeeec3cb7f",
   "metadata": {},
   "source": [
    "# ChatBot"
   ]
  },
  {
   "cell_type": "code",
   "execution_count": 190,
   "id": "fe2d5d53-44b1-4f06-a6af-54a5def80760",
   "metadata": {},
   "outputs": [],
   "source": [
    "from sentence_transformers import SentenceTransformer\n",
    "from langchain.embeddings import HuggingFaceEmbeddings\n",
    "from langchain.text_splitter import RecursiveCharacterTextSplitter\n",
    "from langchain_community.vectorstores import Chroma\n",
    "# from langchain.prompts import ChatPromptTemplate\n",
    "from langchain_core.prompts import ChatPromptTemplate\n",
    "from langchain_core.output_parsers import StrOutputParser\n",
    "from langchain_core.runnables import RunnablePassthrough\n",
    "from langchain_mistralai import ChatMistralAI\n",
    "from typing import Literal\n",
    "from langchain_core.pydantic_v1 import BaseModel, Field\n",
    "from langchain_core.runnables import RunnableLambda\n",
    "from langchain.chains import RetrievalQA"
   ]
  },
  {
   "cell_type": "code",
   "execution_count": 7,
   "id": "c4878df3-c482-41be-8c23-e048774d993f",
   "metadata": {},
   "outputs": [],
   "source": [
    "sentence = ['''ਪੰਜਾਬ ਦੀਆਂ ਖੇਤੀ-ਭੂਗੋਲਿਕ ਹਾਲਾਤਾਂ ਨਿੰਬੂ ਜਾਤੀ ਦੇ ਫ਼ਲਾਂ ਦੇ ਉਤਪਾਦਨ ਲਈ ਸਭ ਤੋਂ\n",
    "ਵੱਧ ਢੁੱਕਵੀਆਂ ਹਨ। ਦੂਜੇ ਫ਼ਲਾਂ ਦੇ ਮੁਕਾਬਲੇ ਆਪਣੀ ਉੱਚ ਆਰਥਿਕ ਉਤਪਾਦਕਤਾ ਕਾਰਨ\n",
    "ਨਿੰਬੂ ਜਾਤੀ ਦੇ ਫ਼ਲਾਂ ਦੀ ਖੇਤੀ ਕਿਸਾਨਾਂ ਲਈ ਵਰਦਾਨ ਸਿੱਧ ਹੋਈ ਹੈ। ਇਹ ਫ਼ਲ ਰਕਬਾ ਅਤੇ\n",
    "ਉਤਪਾਦਨ ਦੋਨਾਂ ਵਿੱਚ ਨੰਬਰ ਇੱਕ ਦੇ ਤੌਰ ਤੇ ਉਭਰੇ ਹਨ ਅਤੇ ਪੰਜਾਬ ਰਾਜ ਵਿਚ “ਸੁਨਹਿਰੀ\n",
    "ਕ੍ਰਾਂਤੀ” ਲਿਆਏ ਹਨ। ਪਰ ਫੁੱਲ ਪੈਣ ਤੋਂ ਫ਼ਲ ਦੇ ਪੱਕਣ ਸਮੇਂ ਤੱਕ ਫ਼ੁੱਲਾਂ ਅਤੇ ਫ਼ਲਾਂ ਦਾ ਭਾਰੀ\n",
    "ਮਾਤਰਾ ਵਿੱਚ ਝੜ ਜਾਣਾ ਨਿੰਬੂ ਦੇ ਫ਼ਲਾਂ ਵਿਚ ਇੱਕ ਗੰਭੀਰ ਸਮੱਸਿਆ ਹੈ।''']\n",
    "# embeddings = model.encode(sentence)"
   ]
  },
  {
   "cell_type": "code",
   "execution_count": 30,
   "id": "104d355a-b749-4f4b-a3b7-6e22231dc428",
   "metadata": {},
   "outputs": [],
   "source": [
    "# model_name = 'l3cube-pune/punjabi-sentence-bert-nli'\n",
    "model_name = 'l3cube-pune/punjabi-sentence-similarity-sbert'\n",
    "embeddings = HuggingFaceEmbeddings(\n",
    "    model_name=model_name  # Provide the pre-trained model's path\n",
    "    # model_kwargs=model_kwargs, # Pass the model configuration options\n",
    "    # encode_kwargs=encode_kwargs # Pass the encoding options\n",
    ")"
   ]
  },
  {
   "cell_type": "code",
   "execution_count": 22,
   "id": "f25b7a18-8ebf-48c5-9df0-7e183b489208",
   "metadata": {},
   "outputs": [],
   "source": [
    "def get_doc(path):\n",
    "    f = open(path)\n",
    "    sample_doc = f.read()\n",
    "    f.close()\n",
    "    sample_doc = sample_doc.replace('\\n\\n','#sentencesahikarnekeliyerandomvariable')\n",
    "    sample_doc = sample_doc.replace('\\n' ,'')\n",
    "    sample_doc = sample_doc.replace('#sentencesahikarnekeliyerandomvariable','\\n\\n')\n",
    "    return sample_doc"
   ]
  },
  {
   "cell_type": "markdown",
   "id": "b535d733-003c-4648-971d-df0203a49df5",
   "metadata": {},
   "source": [
    "### Creating vector stores"
   ]
  },
  {
   "cell_type": "raw",
   "id": "f5a0709c-5462-439e-b57f-f76177f1f9a2",
   "metadata": {},
   "source": [
    "sample_doc = get_doc('../ocr_code/data_books/ocr_punjabi/pp_veg_pbi.txt')\n",
    "text_splitter = RecursiveCharacterTextSplitter(chunk_size=800, chunk_overlap=100)\n",
    "splits = text_splitter.create_documents(texts = [sample_doc])\n",
    "\n",
    "persist_directory='vectorstore/vegetable'\n",
    "vectorstore = Chroma.from_documents(documents=splits, \n",
    "                                    embedding=embeddings,\n",
    "                                    persist_directory=persist_directory)\n",
    "vectorstore.persist()"
   ]
  },
  {
   "cell_type": "raw",
   "id": "782a23c6-69b5-45b0-a8b4-effab168ed11",
   "metadata": {},
   "source": [
    "sample_doc = get_doc('../ocr_code/data_books/ocr_punjabi/pp_kharif_pbi.txt')\n",
    "text_splitter = RecursiveCharacterTextSplitter(chunk_size=800, chunk_overlap=100)\n",
    "splits = text_splitter.create_documents(texts = [sample_doc])\n",
    "\n",
    "persist_directory='vectorstore/kharif'\n",
    "vectorstore = Chroma.from_documents(documents=splits, \n",
    "                                    embedding=embeddings,\n",
    "                                    persist_directory=persist_directory)\n",
    "vectorstore.persist()"
   ]
  },
  {
   "cell_type": "raw",
   "id": "82b88c8e-1195-4ed8-8d94-41542d117794",
   "metadata": {},
   "source": [
    "sample_doc = get_doc('../ocr_code/data_books/ocr_punjabi/pp_rabi_pbi.txt')\n",
    "text_splitter = RecursiveCharacterTextSplitter(chunk_size=800, chunk_overlap=100)\n",
    "splits = text_splitter.create_documents(texts = [sample_doc])\n",
    "\n",
    "persist_directory='vectorstore/rabi'\n",
    "vectorstore = Chroma.from_documents(documents=splits, \n",
    "                                    embedding=embeddings,\n",
    "                                    persist_directory=persist_directory)\n",
    "vectorstore.persist()"
   ]
  },
  {
   "cell_type": "raw",
   "id": "2cdf90e0-96f7-493c-9691-6251b193eebc",
   "metadata": {},
   "source": [
    "fruits_doc = get_doc('../ocr_code/data_books/ocr_punjabi/pp_fruits_pbi.txt')\n",
    "citrus_doc = get_doc('../ocr_code/data_books/ocr_punjabi/Citrus_Cultivation_pbi.txt')\n",
    "\n",
    "text_splitter = RecursiveCharacterTextSplitter(chunk_size=800, chunk_overlap=100)\n",
    "splits = text_splitter.create_documents(texts = [fruits_doc,citrus_doc])\n",
    "\n",
    "persist_directory='vectorstore/fruit'\n",
    "vectorstore = Chroma.from_documents(documents=splits, \n",
    "                                    embedding=embeddings,\n",
    "                                    persist_directory=persist_directory)\n",
    "vectorstore.persist()"
   ]
  },
  {
   "cell_type": "code",
   "execution_count": 62,
   "id": "855bb4a5-c077-4283-a698-74c6387a104f",
   "metadata": {
    "scrolled": true
   },
   "outputs": [],
   "source": [
    "vectorstore = None\n",
    "vectorstore = Chroma(persist_directory=persist_directory, embedding_function=embeddings)\n",
    "retriever = vectorstore.as_retriever(search_kwargs={'k':1})"
   ]
  },
  {
   "cell_type": "raw",
   "id": "b57898b2-7170-4604-b51d-35a032d6b24f",
   "metadata": {},
   "source": [
    "for i in retriever.get_relevant_documents(question):\n",
    "    print(i)"
   ]
  },
  {
   "cell_type": "code",
   "execution_count": 227,
   "id": "2e9a204b-6848-45ce-b351-d9e529c9d8dc",
   "metadata": {},
   "outputs": [],
   "source": [
    "# prompt = ChatPromptTemplate.from_messages(\n",
    "#     [\n",
    "#         (\n",
    "#             \"system\",\n",
    "#             \"\"\"You are an employ at call center, provide answer to the question from your own knowlage, you may use the provided context\n",
    "#             context: {context}\n",
    "#             \"\"\",\n",
    "#         ),\n",
    "#         (\"human\", \"{question}\"),\n",
    "#     ]\n",
    "# )\n",
    "\n",
    "prompt = ChatPromptTemplate.from_messages(\n",
    "    [\n",
    "        (\n",
    "            \"system\",\n",
    "            \"\"\"ਤੁਸੀਂ ਕਾਲ ਸੈਂਟਰ ਵਿੱਚ ਇੱਕ ਕਰਮਚਾਰੀ ਹੋ, ਆਪਣੇ ਖੁਦ ਦੇ ਗਿਆਨ ਤੋਂ ਸਵਾਲ ਦਾ ਜਵਾਬ ਪ੍ਰਦਾਨ ਕਰੋ, ਤੁਸੀਂ ਪ੍ਰਦਾਨ ਕੀਤੇ ਸੰਦਰਭ ਦੀ ਵਰਤੋਂ ਕਰ ਸਕਦੇ ਹੋ\n",
    "            ਸੰਦਰਭ: {context}\n",
    "            \"\"\",\n",
    "        ),\n",
    "        (\"human\", \"{question}\"),\n",
    "    ]\n",
    ")"
   ]
  },
  {
   "cell_type": "raw",
   "id": "b10a95cf-cea1-4f74-9c57-ea1785b06135",
   "metadata": {},
   "source": [
    "template = \"\"\"Answer the question based only on the following context:\n",
    "{context}\n",
    "\n",
    "Question: {question}\n",
    "\"\"\"\n",
    "\n",
    "template_punjabi = '''ਸਿਰਫ਼ ਹੇਠਾਂ ਦਿੱਤੇ ਸੰਦਰਭ ਦੇ ਆਧਾਰ 'ਤੇ ਸਵਾਲ ਦਾ ਜਵਾਬ ਦਿਓ:\n",
    "{context}\n",
    "\n",
    "ਸਵਾਲ: {question}'''\n",
    "\n",
    "prompt = ChatPromptTemplate.from_template(template_punjabi)\n",
    "print(prompt)"
   ]
  },
  {
   "cell_type": "code",
   "execution_count": 228,
   "id": "39387e06-15cd-4a49-866b-cf43dfb80ea2",
   "metadata": {},
   "outputs": [],
   "source": [
    "llm = ChatMistralAI(\n",
    "    model=\"mistral-large-latest\"\n",
    ")"
   ]
  },
  {
   "cell_type": "code",
   "execution_count": 237,
   "id": "fb00a939-909a-4e3c-ba4b-5f66f89c69bf",
   "metadata": {},
   "outputs": [],
   "source": [
    "rag_chain = (\n",
    "    {\"context\": retriever, \"question\": RunnablePassthrough()}\n",
    "    | prompt\n",
    "    | llm\n",
    "    | StrOutputParser()\n",
    ")"
   ]
  },
  {
   "cell_type": "code",
   "execution_count": 158,
   "id": "96d349e8-d0c2-470c-b250-8540108cb0c7",
   "metadata": {},
   "outputs": [
    {
     "data": {
      "text/plain": [
       "ChatPromptValue(messages=[SystemMessage(content='ਤੁਸੀਂ ਕਾਲ ਸੈਂਟਰ ਵਿੱਚ ਇੱਕ ਕਰਮਚਾਰੀ ਹੋ, ਆਪਣੇ ਖੁਦ ਦੇ ਗਿਆਨ ਤੋਂ ਸਵਾਲ ਦਾ ਜਵਾਬ ਪ੍ਰਦਾਨ ਕਰੋ, ਤੁਸੀਂ ਪ੍ਰਦਾਨ ਕੀਤੇ ਸੰਦਰਭ ਦੀ ਵਰਤੋਂ ਕਰ ਸਕਦੇ ਹੋ\\n            ਸੰਦਰਭ: [Document(page_content=\"page - 554. ਅੰਬ\\\\n\\\\nਅੰਬ ਭਾਰਤ ਦੇ ਲੋਕਾਂ ਦਾ ਮਨਪਸੰਦ ਫਲ ਹੈ । ਇਸ ਵਿੱਚ ਸਾਰੇ ਫਲਾਂ ਤੋਂਜ਼ਿਆਦਾ ਵਿਟਾਮਿਨ \\'ਏ” (4800 ਯੂਨਿਟ) ਅਤੇ ਵਿਟਾਮਿਨ ਬੀ-1, ਵਿਟਾਮਿਨਬੀ-2 90 ਮਿਲੀਗ੍ਰਾਮ, ਵਿਟਾਮਿਨ ਸੀ 13 ਮਿਲੀਗ੍ਰਾਮ ਪੁਤੀ 100 ਗ੍ਰਾਮ ਗੁੱਦੇਦੇ ਹਿਸਾਬ ਨਾਲ ਹੁੰਦੇ ਹਨ । ਇਸ ਤੋਂ ਇਲਾਵਾ ਮਿਠਾਸ (11.8%) ਤੇ ਕਈਮਾਤਰਾ ਵਿੱਚ ਪਾਈਆਂ ਜਾਦੀਆਂ ਹਨ । ਇਹ ਫਲ ਵਾਧੇ ਦੀ ਹਰ ਅਵੱਸਥਾ ਤੇਵਰਤਿਆ ਜਾ ਸਕਦਾ ਹੈ ।ਪੌਣ ਪਾਣੀ ਤੇ ਜ਼ਮੀਨ\\\\n\\\\nਅੰਬ ਕਈ ਤਰ੍ਹਾਂ ਦੀਆਂ ਜ਼ਮੀਨਾਂ ਵਿੱਚ ਉਗਾਇਆ ਜਾ ਸਕਦਾ ਹੈ ਪਰਇਸ ਲਈ ਜ਼ਮੀਨ ਡੂੰਘੀ ਹੋਵੇ ਜਿਸ ਵਿੱਚ ਸਖਤ ਰੋੜ ਆਦਿ ਦੀ ਤਹਿ 6 ਫੁੱਟਤੱਕ ਨਹੀਂ ਹੋਣੀ ਚਾਹੀਦੀ । ਜ਼ਮੀਨ ਵਿੱਚ ਬਹੁਤਾ ਨਮਕੀਨ ਪਦਾਰਥ ਨਾ ਹੋਵੇਅਤੇ ਬਿਜਲੀ ਦੀ ਚਾਲਕਤਾ ਦੀ ਹੱਦ 10 ਮਿਲੀ ਮਹੋਜ਼/ਸੈਂਟੀਮੀਟਰ ਤੋਂ ਜ਼ਿਆਦਾਨਾ ਹੋਵੇ । ਕੈਲਸ਼ੀਅਮ ਕਾਰਬੋਨੇਟ ਅਤੇ ਚੂਨਾ ਕੁਮਵਾਰ 10% ਅਤੇ 20% ਤੋਂਘੋਟ ਹੋਣੇ ਚਾਹੀਦੇ ਹਨ । ਜ਼ਮੀਨ ਦੀ ਰਸਾਇਣਕ ਕਿਰਿਆ (ਪੀ ਐਚ) 60ਸੈਂਟੀਮੀਟਰ ਤੱਕ 8.5 ਤੋਂ ਜ਼ਿਆਦਾ ਨਾ ਹੋਵੇ। ਪਾਣੀ ਦੀ ਸਤਹਿ ਧਰਤੀ ਵਿੱਚ 3ਮੀਟਰ ਤੋਂ ਹੇਠਾਂ ਹੋਵੇ ਤਾਂ ਚੰਗੀ ਗੱਲ ਹੈ ।\")]\\n            '), HumanMessage(content='ਅੰਬ ਦੇ ਰੁੱਖ ਲਈ ਮਿੱਟੀ ਦੀ ਆਦਰਸ਼ ਸਥਿਤੀ ਕੀ ਹੋਣੀ ਚਾਹੀਦੀ ਹੈ')])"
      ]
     },
     "execution_count": 158,
     "metadata": {},
     "output_type": "execute_result"
    }
   ],
   "source": [
    "sample_chain = ({\"context\": fruit_retriever, \"question\": RunnablePassthrough()} | prompt )\n",
    "sample_chain.invoke(question)"
   ]
  },
  {
   "cell_type": "code",
   "execution_count": 244,
   "id": "7e31d883-8508-4f23-9d5a-2ef911fbdb73",
   "metadata": {},
   "outputs": [
    {
     "name": "stdout",
     "output_type": "stream",
     "text": [
      "ਅੰਬ ਦੇ ਰੁੱਖ ਲਈ ਮਿੱਟੀ ਦੀ ਆਦਰਸ਼ ਸਥਿਤੀ ਹੇਠ ਲਿਖੀਆਂ ਸ਼ਰਤਾਂ ਨਾਲ ਹੋਣੀ ਚਾਹੀਦੀ ਹੈ:\n",
      "\n",
      "1. **ਜ਼ਮੀਨ ਡੂੰਘੀ ਹੋਵੇ**: ਜਿਸ ਵਿੱਚ ਸਖਤ ਰੋੜ ਆਦਿ ਦੀ ਤਹਿ 6 ਫੁੱਟ ਤੱਕ ਨਹੀਂ ਹੋਣੀ ਚਾਹੀਦੀ।\n",
      "2. **ਜ਼ਮੀਨ ਵਿੱਚ ਬਹੁਤਾ ਨਮਕੀਨ ਪਦਾਰਥ ਨਾ ਹੋਵੇ**: ਬਿਜਲੀ ਦੀ ਚਾਲਕਤਾ ਦੀ ਹੱਦ 10 ਮਿਲੀ ਮਹੋਜ਼/ਸੈਂਟੀਮੀਟਰ ਤੋਂ ਜ਼ਿਆਦਾ ਨਾ ਹੋਵੇ।\n",
      "3. **ਕੈਲਸ਼ੀਅਮ ਕਾਰਬੋਨੇਟ ਅਤੇ ਚੂਨਾ**: 10% ਅਤੇ 20% ਤੋਂ ਘੋਟ ਹੋਣੇ ਚਾਹੀਦੇ ਹਨ।\n",
      "4. **ਜ਼ਮੀਨ ਦੀ ਰਸਾਇਣਕ ਕਿਰਿਆ (ਪੀ ਐਚ)**: 6.0 ਸੈਂਟੀਮੀਟਰ ਤੱਕ 8.5 ਤੋਂ ਜ਼ਿਆਦਾ ਨਾ ਹੋਵੇ।\n",
      "5. **ਪਾਣੀ ਦੀ ਸਤਹਿ**: ਧਰਤੀ ਵਿੱਚ 3 ਮੀਟਰ ਤੋਂ ਹੇਠਾਂ ਹੋਵੇ ਤਾਂ ਚੰਗੀ ਗੱਲ ਹੈ।\n",
      "\n",
      "ਇਹ ਸਾਰੀਆਂ ਸ਼ਰਤਾਂ ਪੂਰੀਆਂ ਹੋਣ 'ਤੇ ਅੰਬ ਦੇ ਰੁੱਖ ਦਾ ਵਾਧਾ ਸਹੀ ਢੰਗ ਨਾਲ ਹੋ ਸਕਦਾ ਹੈ।\n"
     ]
    }
   ],
   "source": [
    "question = 'ਅੰਬ ਦੇ ਰੁੱਖ ਲਈ ਮਿੱਟੀ ਦੀ ਆਦਰਸ਼ ਸਥਿਤੀ ਕੀ ਹੋਣੀ ਚਾਹੀਦੀ ਹੈ'\n",
    "print(rag_chain.invoke(question))"
   ]
  },
  {
   "cell_type": "markdown",
   "id": "4dab41d3-886a-47c1-99a3-a5101fa44672",
   "metadata": {},
   "source": [
    "# Image input"
   ]
  },
  {
   "cell_type": "code",
   "execution_count": 16,
   "id": "71d1e383-21be-4956-bc85-ae4ffd1d84e0",
   "metadata": {},
   "outputs": [],
   "source": [
    "import cv2\n",
    "import pytesseract as pt"
   ]
  },
  {
   "cell_type": "code",
   "execution_count": 28,
   "id": "50f99260-2734-4d33-abaa-1b9eca655da5",
   "metadata": {},
   "outputs": [],
   "source": [
    "def get_text(image_path):\n",
    "    img = cv2.imread(image_path)\n",
    "    text = pt.image_to_string(img,config='--psm 6',lang='pan')\n",
    "    return text"
   ]
  },
  {
   "cell_type": "code",
   "execution_count": 22,
   "id": "a3d54d82-103b-4932-9ede-06187726967a",
   "metadata": {},
   "outputs": [
    {
     "data": {
      "text/plain": [
       "'ਫਲਦਾਰ ਪੋਦਿਆਂ ਲਈ ਕਿਹੜੀ ਜ਼ਮੀਨ ਸਭ ਤੋਂ ਵਧੀਆ ਹੈ\\n\\x0c'"
      ]
     },
     "execution_count": 22,
     "metadata": {},
     "output_type": "execute_result"
    }
   ],
   "source": [
    "path = 'ss_test.png'\n",
    "get_text(path)"
   ]
  },
  {
   "cell_type": "code",
   "execution_count": 33,
   "id": "15e2d517-deee-4691-94d5-0e86bd74f1ca",
   "metadata": {},
   "outputs": [
    {
     "data": {
      "text/plain": [
       "'ਫਲਦਾਰ ਪੌਦਿਆਂ ਲਈ ਸਭ ਤੋਂ ਵਧੀਆ ਜ਼ਮੀਨ ਉਹ ਹੁੰਦੀ ਹੈ ਜੋ ਚੰਗੇ ਜਲਨਿਕਾਸ ਦੀ ਸਮਰੱਥਾ ਰੱਖਦੀ ਹੈ, ਡੂੰਘੀ ਅਤੇ 120 ਸੈਂਟੀਮੀਟਰ ਦੀ ਡੂੰਘਾਈ ਤੱਕ ਕੰਕਰ-ਪੇਥਰ ਦੀ ਤਹਿ ਤੋਂ ਰਹਿਤ ਹੋਵੇ। ਮਿੱਟੀ ਦੇ ਭੌਤਿਕ ਗੁਣਾਂ ਵਿੱਚ ਬਿਜਲੀ ਦੀ ਚਾਲਕਤਾ 0.5 ਮਿਲੀ ਮਹੋਜ਼ ਪੁਤੀ ਸੈਂਟੀਮੀਟਰ ਤੋਂ ਹੇਠ, ਕੈਲਸ਼ੀਅਮ ਕਾਰਬੋਨੇਟ 5% ਤੋਂ ਘੱਟ, ਚੂਨਾ 10% ਤੋਂ ਘੱਟ ਅਤੇ ਪੀਐਚ 6 ਤੋਂ 8 ਤੱਕ ਹੋਣਾ ਚਾਹੀਦਾ ਹੈ। ਭਾਰੀ, ਕੌਲਰ ਅਤੇ ਸੇਮ ਵਾਲੀ ਜ਼ਮੀਨ ਫਲਦਾਰ ਪੌਦਿਆਂ ਲਈ ਢੁੱਕਵੀ ਨਹੀਂ ਹੁੰਦੀ।'"
      ]
     },
     "execution_count": 33,
     "metadata": {},
     "output_type": "execute_result"
    }
   ],
   "source": [
    "question = get_text('ss_test.png')\n",
    "rag_chain.invoke(question)"
   ]
  },
  {
   "cell_type": "markdown",
   "id": "11d0661b-a0de-4b9d-8c24-3d4dc14c1e17",
   "metadata": {},
   "source": [
    "# Routing"
   ]
  },
  {
   "cell_type": "code",
   "execution_count": 245,
   "id": "6d292fd6-22b0-4649-9145-583fb013b41a",
   "metadata": {},
   "outputs": [],
   "source": [
    "def get_retriever(persist_directory):\n",
    "    vectorstore = Chroma(persist_directory=persist_directory, embedding_function=embeddings)\n",
    "    retriever = vectorstore.as_retriever(search_kwargs={'k':1})\n",
    "    return retriever\n",
    "\n",
    "fruit_retriever = get_retriever('vectorstore/fruit/')\n",
    "vegetable_retriever = get_retriever('vectorstore/vegetable/')\n",
    "rabi_retriever = get_retriever('vectorstore/rabi/')\n",
    "kharif_retriever = get_retriever('vectorstore/kharif/')"
   ]
  },
  {
   "cell_type": "code",
   "execution_count": 246,
   "id": "b8dd0dff-e401-469c-97ed-265f709689b4",
   "metadata": {},
   "outputs": [],
   "source": [
    "class RouteQuery(BaseModel):\n",
    "    \"\"\"Route a user query to the most relevant datasource.\"\"\"\n",
    "\n",
    "    datasource: Literal[\"fruits\", \"vegetable\", \"rabi_crop\",\"kharif_crop\"] = Field(\n",
    "        ...,\n",
    "        description=\"Given a user question choose which datasource would be most relevant for answering their question\",\n",
    "    )"
   ]
  },
  {
   "cell_type": "code",
   "execution_count": 247,
   "id": "3f7cb6ea-832e-4eb6-a159-669dde2a6eda",
   "metadata": {},
   "outputs": [],
   "source": [
    "system = \"\"\"You are an expert at routing a user question to the appropriate data source.\n",
    "\n",
    "Based on the what whether the question is about fruits, vegetable or rabi or kharif crop; route it to the relevant data source.\"\"\"\n",
    "\n",
    "prompt_routing = ChatPromptTemplate.from_messages(\n",
    "    [\n",
    "        (\"system\",system),\n",
    "        (\"human\", \"{question}\"),\n",
    "    ]\n",
    ")"
   ]
  },
  {
   "cell_type": "code",
   "execution_count": 265,
   "id": "734fdc0b-3eff-4622-979e-309241ee444e",
   "metadata": {},
   "outputs": [],
   "source": [
    "# question = \"\"\"what is the ideal soil condition for mango plants\"\"\"\n",
    "# question = \"\"\"what is the ideal soil condition for wheat\"\"\"\n",
    "question = \"ਕਣਕ ਲਈ ਮਿੱਟੀ ਦੀ ਆਦਰਸ਼ ਸਥਿਤੀ ਕੀ ਹੈ\"\n",
    "# question = \"ਅੰਬ ਦੇ ਪੌਦਿਆਂ ਲਈ ਮਿੱਟੀ ਦੀ ਆਦਰਸ਼ ਸਥਿਤੀ ਕੀ ਹੈ\"\n",
    "# question = 'ਸੰਤਰੇ ਦੇ ਪੌਦਿਆਂ ਲਈ ਮਿੱਟੀ ਦੀ ਆਦਰਸ਼ ਸਥਿਤੀ ਕੀ ਹੈ'"
   ]
  },
  {
   "cell_type": "code",
   "execution_count": 268,
   "id": "45aff35e-4d59-47b1-a709-aa36f76c8cda",
   "metadata": {},
   "outputs": [],
   "source": [
    "def router(query):\n",
    "    structured_llm = llm.with_structured_output(RouteQuery)\n",
    "    router = prompt_routing | structured_llm\n",
    "    result = router.invoke({\"question\": query})\n",
    "    return result.datasource.lower()"
   ]
  },
  {
   "cell_type": "code",
   "execution_count": 269,
   "id": "0eaf09e1-93c4-4a59-8893-aef7c5fe1bef",
   "metadata": {},
   "outputs": [],
   "source": [
    "def create_rag_chain(retriever):\n",
    "    rag_chain = (\n",
    "        {\"context\": retriever, \"question\": RunnablePassthrough()}\n",
    "        | prompt\n",
    "        | llm\n",
    "        | StrOutputParser()\n",
    "    )\n",
    "    return rag_chain"
   ]
  },
  {
   "cell_type": "code",
   "execution_count": 274,
   "id": "9c6ab0b5-2c14-4778-b555-e463b702c1ba",
   "metadata": {},
   "outputs": [],
   "source": [
    "import time\n",
    "def route(query):\n",
    "    domain = router(query)\n",
    "    if \"fruits\" in domain:\n",
    "        rag_chain = create_rag_chain(fruit_retriever)\n",
    "    elif \"vegetable\" in domain:\n",
    "        rag_chain = create_rag_chain(vegetable_retriever)\n",
    "    elif \"rabi\" in domain:\n",
    "        rag_chain = create_rag_chain(rabi_retriever)\n",
    "    else:\n",
    "        rag_chain = create_rag_chain(kharif_retriever)\n",
    "    print(domain)\n",
    "    time.sleep(1)\n",
    "    print('-'*20)\n",
    "    return rag_chain.invoke(query)\n",
    "    # return rag_chain"
   ]
  },
  {
   "cell_type": "code",
   "execution_count": 275,
   "id": "c5e22ed9-8d71-48b3-ba4b-331a8268bcab",
   "metadata": {},
   "outputs": [
    {
     "name": "stdout",
     "output_type": "stream",
     "text": [
      "rabi_crop\n",
      "--------------------\n",
      "ਕਣਕ ਲਈ ਮਿੱਟੀ ਦੀ ਆਦਰਸ਼ ਸਥਿਤੀ ਦਰਮਿਆਨੀ ਤੋਂ ਭਾਰੀ ਜ਼ਮੀਨ ਹੈ। ਇਹ ਜ਼ਮੀਨ ਕੱਲਰ ਅਤੇ ਸੇਮ ਵਾਲੀਆਂ ਜ਼ਮੀਨਾਂ ਤੋਂ ਬਿਨਾਂ ਹਰ ਕਿਸਮ ਦੀ ਜ਼ਮੀਨ ਹੋ ਸਕਦੀ ਹੈ। ਕਣਕ ਦੀ ਬਿਜਾਈ ਲਈ ਸਹੀ ਸਮੇਂ ਤੇ ਬਿਜਾਈ ਕਰਨਾ ਜ਼ਰੂਰੀ ਹੈ, ਅਤੇ ਉਹਨਾਂ ਜ਼ਮੀਨਾਂ ਵਿੱਚ ਜਿਹਨਾਂ ਵਿੱਚ ਕੱਲਰ ਅਤੇ ਸੇਮ ਦੀ ਮਾਤਰਾ ਜ਼ਿਆਦਾ ਨਹੀਂ ਹੈ, ਕਣਕ ਦੀ ਬਿਜਾਈ ਮਿਲਦੀ ਹੈ।\n"
     ]
    }
   ],
   "source": [
    "result = route(question)\n",
    "print(result)"
   ]
  },
  {
   "cell_type": "code",
   "execution_count": null,
   "id": "535b3715-b76a-4415-95d7-4598839c5243",
   "metadata": {},
   "outputs": [],
   "source": []
  }
 ],
 "metadata": {
  "kernelspec": {
   "display_name": "punjabi_chatbot",
   "language": "python",
   "name": "punjabi_chatbot"
  },
  "language_info": {
   "codemirror_mode": {
    "name": "ipython",
    "version": 3
   },
   "file_extension": ".py",
   "mimetype": "text/x-python",
   "name": "python",
   "nbconvert_exporter": "python",
   "pygments_lexer": "ipython3",
   "version": "3.10.12"
  }
 },
 "nbformat": 4,
 "nbformat_minor": 5
}

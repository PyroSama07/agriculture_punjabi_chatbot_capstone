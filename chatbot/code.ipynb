{
 "cells": [
  {
   "cell_type": "code",
   "execution_count": 1,
   "id": "82c4812b-a29d-406e-aa9b-df44d44d41e4",
   "metadata": {},
   "outputs": [
    {
     "data": {
      "text/plain": [
       "True"
      ]
     },
     "execution_count": 1,
     "metadata": {},
     "output_type": "execute_result"
    }
   ],
   "source": [
    "from dotenv import load_dotenv\n",
    "import os\n",
    "\n",
    "load_dotenv()"
   ]
  },
  {
   "cell_type": "code",
   "execution_count": 2,
   "id": "fe2d5d53-44b1-4f06-a6af-54a5def80760",
   "metadata": {},
   "outputs": [
    {
     "name": "stderr",
     "output_type": "stream",
     "text": [
      "/home/pyrosama/python/agriculture_punjabi_chatbot_capstone/chatbot/chatbot_env/lib/python3.10/site-packages/sentence_transformers/cross_encoder/CrossEncoder.py:11: TqdmExperimentalWarning: Using `tqdm.autonotebook.tqdm` in notebook mode. Use `tqdm.tqdm` instead to force console mode (e.g. in jupyter console)\n",
      "  from tqdm.autonotebook import tqdm, trange\n"
     ]
    }
   ],
   "source": [
    "from sentence_transformers import SentenceTransformer\n",
    "from langchain.embeddings import HuggingFaceEmbeddings\n",
    "from langchain.text_splitter import RecursiveCharacterTextSplitter\n",
    "from langchain_community.vectorstores import Chroma\n",
    "# from langchain.prompts import ChatPromptTemplate\n",
    "from langchain_core.prompts import ChatPromptTemplate\n",
    "from langchain_core.output_parsers import StrOutputParser\n",
    "from langchain_core.runnables import RunnablePassthrough\n",
    "from langchain_mistralai import ChatMistralAI"
   ]
  },
  {
   "cell_type": "code",
   "execution_count": 3,
   "id": "c4878df3-c482-41be-8c23-e048774d993f",
   "metadata": {},
   "outputs": [],
   "source": [
    "sentence = ['''ਪੰਜਾਬ ਦੀਆਂ ਖੇਤੀ-ਭੂਗੋਲਿਕ ਹਾਲਾਤਾਂ ਨਿੰਬੂ ਜਾਤੀ ਦੇ ਫ਼ਲਾਂ ਦੇ ਉਤਪਾਦਨ ਲਈ ਸਭ ਤੋਂ\n",
    "ਵੱਧ ਢੁੱਕਵੀਆਂ ਹਨ। ਦੂਜੇ ਫ਼ਲਾਂ ਦੇ ਮੁਕਾਬਲੇ ਆਪਣੀ ਉੱਚ ਆਰਥਿਕ ਉਤਪਾਦਕਤਾ ਕਾਰਨ\n",
    "ਨਿੰਬੂ ਜਾਤੀ ਦੇ ਫ਼ਲਾਂ ਦੀ ਖੇਤੀ ਕਿਸਾਨਾਂ ਲਈ ਵਰਦਾਨ ਸਿੱਧ ਹੋਈ ਹੈ। ਇਹ ਫ਼ਲ ਰਕਬਾ ਅਤੇ\n",
    "ਉਤਪਾਦਨ ਦੋਨਾਂ ਵਿੱਚ ਨੰਬਰ ਇੱਕ ਦੇ ਤੌਰ ਤੇ ਉਭਰੇ ਹਨ ਅਤੇ ਪੰਜਾਬ ਰਾਜ ਵਿਚ “ਸੁਨਹਿਰੀ\n",
    "ਕ੍ਰਾਂਤੀ” ਲਿਆਏ ਹਨ। ਪਰ ਫੁੱਲ ਪੈਣ ਤੋਂ ਫ਼ਲ ਦੇ ਪੱਕਣ ਸਮੇਂ ਤੱਕ ਫ਼ੁੱਲਾਂ ਅਤੇ ਫ਼ਲਾਂ ਦਾ ਭਾਰੀ\n",
    "ਮਾਤਰਾ ਵਿੱਚ ਝੜ ਜਾਣਾ ਨਿੰਬੂ ਦੇ ਫ਼ਲਾਂ ਵਿਚ ਇੱਕ ਗੰਭੀਰ ਸਮੱਸਿਆ ਹੈ।''']\n",
    "# embeddings = model.encode(sentence)"
   ]
  },
  {
   "cell_type": "code",
   "execution_count": 4,
   "id": "104d355a-b749-4f4b-a3b7-6e22231dc428",
   "metadata": {},
   "outputs": [
    {
     "name": "stderr",
     "output_type": "stream",
     "text": [
      "/home/pyrosama/python/agriculture_punjabi_chatbot_capstone/chatbot/chatbot_env/lib/python3.10/site-packages/langchain_core/_api/deprecation.py:141: LangChainDeprecationWarning: The class `HuggingFaceEmbeddings` was deprecated in LangChain 0.2.2 and will be removed in 0.3.0. An updated version of the class exists in the langchain-huggingface package and should be used instead. To use it run `pip install -U langchain-huggingface` and import as `from langchain_huggingface import HuggingFaceEmbeddings`.\n",
      "  warn_deprecated(\n",
      "/home/pyrosama/python/agriculture_punjabi_chatbot_capstone/chatbot/chatbot_env/lib/python3.10/site-packages/torch/cuda/__init__.py:128: UserWarning: CUDA initialization: CUDA unknown error - this may be due to an incorrectly set up environment, e.g. changing env variable CUDA_VISIBLE_DEVICES after program start. Setting the available devices to be zero. (Triggered internally at ../c10/cuda/CUDAFunctions.cpp:108.)\n",
      "  return torch._C._cuda_getDeviceCount() > 0\n",
      "/home/pyrosama/python/agriculture_punjabi_chatbot_capstone/chatbot/chatbot_env/lib/python3.10/site-packages/transformers/tokenization_utils_base.py:1601: FutureWarning: `clean_up_tokenization_spaces` was not set. It will be set to `True` by default. This behavior will be depracted in transformers v4.45, and will be then set to `False` by default. For more details check this issue: https://github.com/huggingface/transformers/issues/31884\n",
      "  warnings.warn(\n"
     ]
    }
   ],
   "source": [
    "# model_name = 'l3cube-pune/punjabi-sentence-bert-nli'\n",
    "model_name = 'l3cube-pune/punjabi-sentence-similarity-sbert'\n",
    "embeddings = HuggingFaceEmbeddings(\n",
    "    model_name=model_name  # Provide the pre-trained model's path\n",
    "    # model_kwargs=model_kwargs, # Pass the model configuration options\n",
    "    # encode_kwargs=encode_kwargs # Pass the encoding options\n",
    ")"
   ]
  },
  {
   "cell_type": "code",
   "execution_count": 5,
   "id": "4c3c2946-a787-4dc8-a4d3-e53f0df5f57a",
   "metadata": {},
   "outputs": [],
   "source": [
    "f = open('../ocr_code/data_books/ocr_punjabi/pp_fruits_pbi.txt')\n",
    "sample_doc = f.read()\n",
    "f.close()"
   ]
  },
  {
   "cell_type": "code",
   "execution_count": 6,
   "id": "566fdcd9-13b0-4e90-a9b6-a388f6c9c9b3",
   "metadata": {
    "scrolled": true
   },
   "outputs": [],
   "source": [
    "sample_doc = sample_doc.replace('\\n\\n','#sentencesahikarnekeliyerandomvariable')\n",
    "sample_doc = sample_doc.replace('\\n' ,'')\n",
    "sample_doc = sample_doc.replace('#sentencesahikarnekeliyerandomvariable','\\n\\n')"
   ]
  },
  {
   "cell_type": "code",
   "execution_count": 7,
   "id": "e6958c2e-7966-4f46-aa43-136de54013ec",
   "metadata": {},
   "outputs": [],
   "source": [
    "text_splitter = RecursiveCharacterTextSplitter(chunk_size=800, chunk_overlap=100)\n",
    "splits = text_splitter.create_documents(texts = [sample_doc])"
   ]
  },
  {
   "cell_type": "code",
   "execution_count": 8,
   "id": "f67be457-e231-4c96-addb-8a8233ec9837",
   "metadata": {},
   "outputs": [],
   "source": [
    "vectorstore = Chroma.from_documents(documents=splits, \n",
    "                                    embedding=embeddings)"
   ]
  },
  {
   "cell_type": "code",
   "execution_count": 9,
   "id": "1bf53254-3600-4f95-836a-3c1b0c52baa4",
   "metadata": {},
   "outputs": [],
   "source": [
    "retriever = vectorstore.as_retriever(search_kwargs={'k':1})"
   ]
  },
  {
   "cell_type": "raw",
   "id": "29bc7d84-6464-4b25-a44f-d9c83be1934d",
   "metadata": {},
   "source": [
    "# question = \"ਫਲਾਂ ਦੇ ਰੁੱਖਾਂ ਲਈ ਕਿਸ ਕਿਸਮ ਦੀ ਮਿੱਟੀ ਦੀ ਲੋੜ ਹੈ\"\n",
    "# sentence = 'ਫ਼ਲਦਾਰ ਬੁਟੇ ਲਾਉਣ ਲਈ ਜ਼ਮੀਨ ਡੂੰਘੀ, ਚੰਗੇ ਜਲ ਨਿਕਾਸ ਵਾਲੀ, ਭਲ ਵਾਲੀ ਤੇ ਉਪਜਾਊ ਹੋਣੀ ਚਾਹੀਦੀ ਹੈ ।'\n",
    "question = 'ਅੰਬ ਦੇ ਰੁੱਖ ਲਈ ਮਿੱਟੀ ਦੀ ਆਦਰਸ਼ ਸਥਿਤੀ ਕੀ ਹੋਣੀ ਚਾਹੀਦੀ ਹੈ'"
   ]
  },
  {
   "cell_type": "raw",
   "id": "b57898b2-7170-4604-b51d-35a032d6b24f",
   "metadata": {},
   "source": [
    "for i in retriever.get_relevant_documents(question):\n",
    "    print(i)"
   ]
  },
  {
   "cell_type": "code",
   "execution_count": 10,
   "id": "2e9a204b-6848-45ce-b351-d9e529c9d8dc",
   "metadata": {},
   "outputs": [],
   "source": [
    "# prompt = ChatPromptTemplate.from_messages(\n",
    "#     [\n",
    "#         (\n",
    "#             \"system\",\n",
    "#             \"\"\"You are an employ at call center, provide answer to the question from your own knowlage, you may use the provided context\n",
    "#             context: {context}\n",
    "#             \"\"\",\n",
    "#         ),\n",
    "#         (\"human\", \"{question}\"),\n",
    "#     ]\n",
    "# )\n",
    "\n",
    "prompt = ChatPromptTemplate.from_messages(\n",
    "    [\n",
    "        (\n",
    "            \"system\",\n",
    "            \"\"\"ਤੁਸੀਂ ਕਾਲ ਸੈਂਟਰ ਵਿੱਚ ਇੱਕ ਕਰਮਚਾਰੀ ਹੋ, ਆਪਣੇ ਖੁਦ ਦੇ ਗਿਆਨ ਤੋਂ ਸਵਾਲ ਦਾ ਜਵਾਬ ਪ੍ਰਦਾਨ ਕਰੋ, ਤੁਸੀਂ ਪ੍ਰਦਾਨ ਕੀਤੇ ਸੰਦਰਭ ਦੀ ਵਰਤੋਂ ਕਰ ਸਕਦੇ ਹੋ\n",
    "            ਸੰਦਰਭ: {context}\n",
    "            \"\"\",\n",
    "        ),\n",
    "        (\"human\", \"{question}\"),\n",
    "    ]\n",
    ")\n",
    "\n"
   ]
  },
  {
   "cell_type": "code",
   "execution_count": 11,
   "id": "30535836-4f4a-471b-a9f0-4f49eeb6abd3",
   "metadata": {},
   "outputs": [
    {
     "data": {
      "text/plain": [
       "ChatPromptTemplate(input_variables=['context', 'question'], messages=[SystemMessagePromptTemplate(prompt=PromptTemplate(input_variables=['context'], template='ਤੁਸੀਂ ਕਾਲ ਸੈਂਟਰ ਵਿੱਚ ਇੱਕ ਕਰਮਚਾਰੀ ਹੋ, ਆਪਣੇ ਖੁਦ ਦੇ ਗਿਆਨ ਤੋਂ ਸਵਾਲ ਦਾ ਜਵਾਬ ਪ੍ਰਦਾਨ ਕਰੋ, ਤੁਸੀਂ ਪ੍ਰਦਾਨ ਕੀਤੇ ਸੰਦਰਭ ਦੀ ਵਰਤੋਂ ਕਰ ਸਕਦੇ ਹੋ\\n            ਸੰਦਰਭ: {context}\\n            ')), HumanMessagePromptTemplate(prompt=PromptTemplate(input_variables=['question'], template='{question}'))])"
      ]
     },
     "execution_count": 11,
     "metadata": {},
     "output_type": "execute_result"
    }
   ],
   "source": [
    "prompt"
   ]
  },
  {
   "cell_type": "raw",
   "id": "b10a95cf-cea1-4f74-9c57-ea1785b06135",
   "metadata": {},
   "source": [
    "template = \"\"\"Answer the question based only on the following context:\n",
    "{context}\n",
    "\n",
    "Question: {question}\n",
    "\"\"\"\n",
    "\n",
    "template_punjabi = '''ਸਿਰਫ਼ ਹੇਠਾਂ ਦਿੱਤੇ ਸੰਦਰਭ ਦੇ ਆਧਾਰ 'ਤੇ ਸਵਾਲ ਦਾ ਜਵਾਬ ਦਿਓ:\n",
    "{context}\n",
    "\n",
    "ਸਵਾਲ: {question}'''\n",
    "\n",
    "prompt = ChatPromptTemplate.from_template(template_punjabi)\n",
    "print(prompt)"
   ]
  },
  {
   "cell_type": "code",
   "execution_count": 12,
   "id": "39387e06-15cd-4a49-866b-cf43dfb80ea2",
   "metadata": {},
   "outputs": [],
   "source": [
    "llm = ChatMistralAI(\n",
    "    model=\"mistral-large-latest\"\n",
    ")"
   ]
  },
  {
   "cell_type": "raw",
   "id": "3c466ab0-4c06-4b1a-b3de-7269a934dd88",
   "metadata": {},
   "source": [
    "chain = prompt | llm\n",
    "chain.invoke(\n",
    "    {\n",
    "    \"context\":\"\",\n",
    "    \"question\":question\n",
    "    }\n",
    ")"
   ]
  },
  {
   "cell_type": "code",
   "execution_count": 13,
   "id": "fb00a939-909a-4e3c-ba4b-5f66f89c69bf",
   "metadata": {},
   "outputs": [],
   "source": [
    "rag_chain = (\n",
    "    {\"context\": retriever, \"question\": RunnablePassthrough()}\n",
    "    | prompt\n",
    "    | llm\n",
    "    | StrOutputParser()\n",
    ")"
   ]
  },
  {
   "cell_type": "code",
   "execution_count": 14,
   "id": "7e31d883-8508-4f23-9d5a-2ef911fbdb73",
   "metadata": {},
   "outputs": [
    {
     "name": "stdout",
     "output_type": "stream",
     "text": [
      "ਫਲਦਾਰ ਪੌਦਿਆਂ ਲਈ ਸਭ ਤੋਂ ਵਧੀਆ ਜ਼ਮੀਨ ਉਹ ਹੁੰਦੀ ਹੈ ਜਿਸ ਵਿੱਚ ਨਿਰੰਤਰ ਪਾਣੀ ਦੀ ਸਪਲਾਈ, ਸੁਵਿਧਾਜਨਕ ਪਾਣੀ ਦੀ ਨਿਕਾਸੀ ਅਤੇ ਪੌਸ਼ਟਿਕ ਮਿੱਟੀ ਹੋਵੇ। ਫਲਦਾਰ ਪੌਦਿਆਂ ਦੀ ਵਧੀਆ ਵੱਡੀ ਜ਼ਮੀਨ ਦੀਆਂ ਮੁੱਖ ਵਿਸ਼ੇਸ਼ਤਾਵਾਂ ਹਨ:\n",
      "\n",
      "1. **ਪਾਣੀ ਦੀ ਸਪਲਾਈ**: ਫਲਦਾਰ ਪੌਦਿਆਂ ਨੂੰ ਨਿਰੰਤਰ ਪਾਣੀ ਦੀ ਜ਼ਰੂਰਤ ਹੁੰਦੀ ਹੈ, ਇਸ ਲਈ ਉੱਥੇ ਪਾਣੀ ਦੀ ਸਪਲਾਈ ਸੁਨਿਸਚਿਤ ਹੋਣੀ ਚਾਹੀਦੀ ਹੈ।\n",
      "\n",
      "2. **ਪਾਣੀ ਦੀ ਨਿਕਾਸੀ**: ਜ਼ਮੀਨ ਵਿੱਚ ਪਾਣੀ ਦੀ ਅਚੁੱਕ ਨਿਕਾਸੀ ਹੋਣੀ ਚਾਹੀਦੀ ਹੈ ਤਾਂ ਕਿ ਜੜ੍ਹਾਂ ਦੀ ਸੜਕ ਨਾ ਹੋਵੇ।\n",
      "\n",
      "3. **ਪੌਸ਼ਟਿਕ ਮਿੱਟੀ**: ਫਲਦਾਰ ਪੌਦਿਆਂ ਨੂੰ ਪੌਸ਼ਟਿਕ ਮਿੱਟੀ ਦੀ ਜ਼ਰੂਰਤ ਹੁੰਦੀ ਹੈ ਜਿਸ ਵਿੱਚ ਕਾਫ਼ੀ ਖਣਿਜਾਂ ਅਤੇ ਪੌਸ਼ਟਿਕ ਤੱਤ ਹੋਣੇ ਚਾਹੀਦੇ ਹਨ।\n",
      "\n",
      "4. **ਸੂਰਜ ਦੀ ਰੋਸ਼ਨੀ**: ਫਲਦਾਰ ਪੌਦਿਆਂ ਨੂੰ ਕਾਫ਼ੀ ਸੂਰਜ ਦੀ ਰੋਸ਼ਨੀ ਦੀ ਜ਼ਰੂਰਤ ਹੁੰਦੀ ਹੈ, ਇਸ ਲਈ ਜ਼ਮੀਨ ਉਹ ਹੋਣੀ ਚਾਹੀਦੀ ਹੈ ਜਿੱਥੇ ਸੂਰਜ ਦੀ ਰੋਸ਼ਨੀ ਕਾਫ਼ੀ ਮਾਤਰਾ ਵਿੱਚ ਪਹੁੰਚ ਸਕੇ।\n",
      "\n",
      "5. **ਮੌਸਮੀ ਹਾਲਾਤ**: ਫਲਦਾਰ ਪੌਦਿਆਂ ਦੇ ਵੱਖ-ਵੱਖ ਕਿਸਮਾਂ ਦੇ ਵੱਖ-ਵੱਖ ਮੌਸਮੀ ਹਾਲਾਤਾਂ ਦੀ ਜ਼ਰੂਰਤ ਹੁੰਦੀ ਹੈ, ਇਸ ਲਈ ਜ਼ਮੀਨ ਦੀ ਚੋਣ ਮੌਸਮੀ ਹਾਲਾਤਾਂ ਨੂੰ ਧਿਆਨ ਵਿੱਚ ਰੱਖਦੇ ਹੋਏ ਕੀਤੀ ਜਾਣੀ ਚਾਹੀਦੀ ਹੈ।\n",
      "\n",
      "ਇਹਨਾਂ ਤੱਤਾਂ ਦੇ ਸੁਮੇਲ ਨਾਲ ਜ਼ਮੀਨ ਫਲਦਾਰ ਪੌਦਿਆਂ ਲਈ ਸਭ ਤੋਂ ਵਧੀਆ ਹੋਵੇਗੀ।\n"
     ]
    }
   ],
   "source": [
    "question = 'ਫਲਦਾਰ ਪੌਦਿਆਂ ਲਈ ਕਿਹੜੀ ਜ਼ਮੀਨ ਸਭ ਤੋਂ ਵਧੀਆ ਹੈ'\n",
    "print(rag_chain.invoke(question))"
   ]
  },
  {
   "cell_type": "code",
   "execution_count": null,
   "id": "eb7b1af6-cc19-414d-9ef8-fc4b554fe2be",
   "metadata": {},
   "outputs": [],
   "source": []
  }
 ],
 "metadata": {
  "kernelspec": {
   "display_name": "punjabi_chatbot",
   "language": "python",
   "name": "punjabi_chatbot"
  },
  "language_info": {
   "codemirror_mode": {
    "name": "ipython",
    "version": 3
   },
   "file_extension": ".py",
   "mimetype": "text/x-python",
   "name": "python",
   "nbconvert_exporter": "python",
   "pygments_lexer": "ipython3",
   "version": "3.10.12"
  }
 },
 "nbformat": 4,
 "nbformat_minor": 5
}

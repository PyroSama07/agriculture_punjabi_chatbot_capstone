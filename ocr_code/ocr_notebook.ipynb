{
 "cells": [
  {
   "cell_type": "code",
   "execution_count": null,
   "id": "aa737772",
   "metadata": {},
   "outputs": [],
   "source": [
    "from pdf2image import convert_from_path\n",
    "import numpy as np\n",
    "import pytesseract as pt\n",
    "import cv2\n",
    "import os\n",
    "import matplotlib.pyplot as plt"
   ]
  },
  {
   "cell_type": "code",
   "execution_count": null,
   "id": "7a1d93c8",
   "metadata": {},
   "outputs": [],
   "source": [
    "books_punjabi = sorted(['data_books/punjabi/'+book for book in os.listdir('data_books/punjabi/')])\n",
    "books_english = sorted(['data_books/english/'+book for book in os.listdir('data_books/english/')])"
   ]
  },
  {
   "cell_type": "code",
   "execution_count": null,
   "id": "36c7a5d5",
   "metadata": {},
   "outputs": [],
   "source": [
    "images = convert_from_path(books_punjabi[0],dpi=500)\n",
    "images_arr=[np.array(image)[:][140:2325] for image in images]"
   ]
  },
  {
   "cell_type": "code",
   "execution_count": null,
   "id": "8118ffb6",
   "metadata": {},
   "outputs": [],
   "source": [
    "images_arr[53]=images_arr[53][:][:750]"
   ]
  },
  {
   "cell_type": "code",
   "execution_count": null,
   "id": "63e27eef",
   "metadata": {},
   "outputs": [],
   "source": [
    "plt.imshow(images_arr[53])"
   ]
  },
  {
   "cell_type": "code",
   "execution_count": null,
   "id": "7b1d854e",
   "metadata": {},
   "outputs": [],
   "source": [
    "all_text=''\n",
    "for page,image in enumerate(images_arr):\n",
    "    text = pt.image_to_string(image,lang='pan')\n",
    "    all_text = all_text+f'page - {page}\\n'+text+\"\\n\\n\\n\\n\""
   ]
  },
  {
   "cell_type": "code",
   "execution_count": null,
   "id": "a15b3fda",
   "metadata": {},
   "outputs": [],
   "source": [
    "print(all_text)"
   ]
  },
  {
   "cell_type": "code",
   "execution_count": null,
   "id": "986355b7",
   "metadata": {},
   "outputs": [],
   "source": [
    "output_txt = 'data_books/ocr_punjabi/'+books_punjabi[0].split('.')[0].split('/')[-1]+'.txt'\n",
    "f = open(output_txt,'w')\n",
    "f.write(all_text)\n",
    "f.close()"
   ]
  },
  {
   "cell_type": "code",
   "execution_count": null,
   "id": "807e8ffb",
   "metadata": {},
   "outputs": [],
   "source": [
    "images = convert_from_path(books_punjabi[1],dpi=300)\n",
    "images_arr=[np.array(image)[:][:2650] for image in images]"
   ]
  },
  {
   "cell_type": "code",
   "execution_count": null,
   "id": "1971eaf2",
   "metadata": {},
   "outputs": [],
   "source": [
    "all_text=''\n",
    "for page,image in enumerate(images_arr):\n",
    "    text = pt.image_to_string(image,lang='pan')\n",
    "    all_text = all_text+f'page - {page}\\n'+text+\"\\n\\n\\n\\n\""
   ]
  },
  {
   "cell_type": "code",
   "execution_count": null,
   "id": "1306cff3",
   "metadata": {},
   "outputs": [],
   "source": [
    "output_txt = 'data_books/ocr_punjabi/'+books[1].split('.')[0].split('/')[-1]+'.txt'\n",
    "f = open(output_txt,'w')\n",
    "f.write(all_text)\n",
    "f.close()"
   ]
  },
  {
   "cell_type": "code",
   "execution_count": null,
   "id": "56ebc2b7",
   "metadata": {},
   "outputs": [],
   "source": [
    "def area(approx):\n",
    "    x = approx[:,0,0]\n",
    "    y = approx[:,0,1]\n",
    "    return (max(x)-min(x))*(max(y)-min(y))\n",
    "\n",
    "def start_point(approx):\n",
    "    x = approx[:,0,0]\n",
    "    y = approx[:,0,1]\n",
    "    return (min(x),max(y))\n",
    "\n",
    "def end_point(approx):\n",
    "    x = approx[:,0,0]\n",
    "    y = approx[:,0,1]\n",
    "    return (max(x),min(y))\n",
    "\n",
    "def remove_table(image):\n",
    "    gray = cv2.cvtColor(image, cv2.COLOR_BGR2GRAY)\n",
    "    gray = cv2.GaussianBlur(gray, (5, 5), 0)\n",
    "    edges = cv2.Canny(gray, 50, 150, apertureSize=3)\n",
    "    contours, _ = cv2.findContours(edges, cv2.RETR_EXTERNAL, cv2.CHAIN_APPROX_SIMPLE)\n",
    "    for contour in contours:\n",
    "        epsilon = 0.05 * cv2.arcLength(contour, True)\n",
    "        approx = cv2.approxPolyDP(contour, epsilon, True)\n",
    "        if len(approx) == 4:\n",
    "            if (area(approx)>10000):\n",
    "#                 print(area(approx))\n",
    "                cv2.rectangle(image, start_point(approx),end_point(approx), (255, 255, 255), -1)\n",
    "    return image"
   ]
  },
  {
   "cell_type": "code",
   "execution_count": null,
   "id": "38955acf",
   "metadata": {},
   "outputs": [],
   "source": [
    "img = cv2.imread('Screenshot from 2024-04-19 23-03-43.png')\n",
    "cv2.imshow('Rectangles Detected', remove_table(img))\n",
    "cv2.waitKey(0)\n",
    "cv2.destroyAllWindows()"
   ]
  },
  {
   "cell_type": "code",
   "execution_count": null,
   "id": "10d759b9",
   "metadata": {},
   "outputs": [],
   "source": [
    "images = convert_from_path(books_punjabi[3],dpi=300)"
   ]
  },
  {
   "cell_type": "code",
   "execution_count": null,
   "id": "7209889e",
   "metadata": {},
   "outputs": [],
   "source": [
    "images_arr = [remove_table(np.array(image))[:][200:2350] for image in images]"
   ]
  },
  {
   "cell_type": "code",
   "execution_count": null,
   "id": "4c5b220a",
   "metadata": {},
   "outputs": [],
   "source": [
    "all_text=''\n",
    "for page,image in enumerate(images_arr):\n",
    "    text = pt.image_to_string(image,lang='pan')\n",
    "    all_text = all_text+f'page - {page}\\n'+text+\"\\n\\n\\n\\n\""
   ]
  },
  {
   "cell_type": "code",
   "execution_count": null,
   "id": "0125d189",
   "metadata": {},
   "outputs": [],
   "source": [
    "output_txt = 'data_books/ocr_punjabi/'+books_punjabi[3].split('.')[0].split('/')[-1]+'.txt'\n",
    "f = open(output_txt,'w')\n",
    "f.write(all_text)\n",
    "f.close()\n",
    "# output_txt"
   ]
  },
  {
   "cell_type": "code",
   "execution_count": null,
   "id": "9a1183e5",
   "metadata": {},
   "outputs": [],
   "source": [
    "images = convert_from_path(books_punjabi[4],dpi=300)"
   ]
  },
  {
   "cell_type": "code",
   "execution_count": null,
   "id": "af67a344",
   "metadata": {},
   "outputs": [],
   "source": [
    "images_arr = [remove_table(np.array(image))[:][:2650] for image in images]"
   ]
  },
  {
   "cell_type": "code",
   "execution_count": null,
   "id": "dfe91f12",
   "metadata": {},
   "outputs": [],
   "source": [
    "all_text=''\n",
    "for page,image in enumerate(images_arr):\n",
    "    text = pt.image_to_string(image,lang='pan')\n",
    "    all_text = all_text+f'page - {page}\\n'+text+\"\\n\\n\\n\\n\"\n",
    "print(all_text)"
   ]
  },
  {
   "cell_type": "code",
   "execution_count": null,
   "id": "5885cff3",
   "metadata": {},
   "outputs": [],
   "source": [
    "output_txt = 'data_books/ocr_punjabi/'+books_punjabi[4].split('.')[0].split('/')[-1]+'.txt'\n",
    "f = open(output_txt,'w')\n",
    "f.write(all_text)\n",
    "f.close()"
   ]
  },
  {
   "cell_type": "code",
   "execution_count": null,
   "id": "070f32ed",
   "metadata": {},
   "outputs": [],
   "source": [
    "images = convert_from_path(books_punjabi[5],dpi=300)"
   ]
  },
  {
   "cell_type": "code",
   "execution_count": null,
   "id": "1a1fd493",
   "metadata": {},
   "outputs": [],
   "source": [
    "images_arr = [remove_table(np.array(image)[:][:2650]) for image in images]"
   ]
  },
  {
   "cell_type": "code",
   "execution_count": null,
   "id": "15826363",
   "metadata": {},
   "outputs": [],
   "source": [
    "all_text=''\n",
    "for page,image in enumerate(images_arr):\n",
    "    text = pt.image_to_string(image,lang='pan')\n",
    "    all_text = all_text+f'page - {page}\\n'+text+\"\\n\\n\\n\\n\"\n",
    "print(all_text)"
   ]
  },
  {
   "cell_type": "code",
   "execution_count": null,
   "id": "44d166b9",
   "metadata": {},
   "outputs": [],
   "source": [
    "output_txt = 'data_books/ocr_punjabi/'+books_punjabi[5].split('.')[0].split('/')[-1]+'.txt'\n",
    "f = open(output_txt,'w')\n",
    "f.write(all_text)\n",
    "f.close()"
   ]
  },
  {
   "cell_type": "code",
   "execution_count": null,
   "id": "63eb29bc",
   "metadata": {},
   "outputs": [],
   "source": [
    "images = convert_from_path(books_punjabi[6],dpi=300)"
   ]
  },
  {
   "cell_type": "code",
   "execution_count": null,
   "id": "8d2d36ba",
   "metadata": {},
   "outputs": [],
   "source": [
    "images_arr = [remove_table(np.array(image))[:2375] for image in images]"
   ]
  },
  {
   "cell_type": "code",
   "execution_count": null,
   "id": "e222e7c1",
   "metadata": {},
   "outputs": [],
   "source": [
    "all_text=''\n",
    "for page,image in enumerate(images_arr):\n",
    "    text = pt.image_to_string(image,lang='pan')\n",
    "    all_text = all_text+f'page - {page}\\n'+text+\"\\n\\n\\n\\n\"\n",
    "print(all_text)"
   ]
  },
  {
   "cell_type": "code",
   "execution_count": null,
   "id": "f5fc0ecc",
   "metadata": {},
   "outputs": [],
   "source": [
    "output_txt = 'data_books/ocr_punjabi/'+books_punjabi[6].split('.')[0].split('/')[-1]+'.txt'\n",
    "f = open(output_txt,'w')\n",
    "f.write(all_text)\n",
    "f.close()"
   ]
  },
  {
   "cell_type": "code",
   "execution_count": null,
   "id": "46fbe4a9",
   "metadata": {},
   "outputs": [],
   "source": [
    "%reset"
   ]
  },
  {
   "cell_type": "code",
   "execution_count": null,
   "id": "7570fa6b",
   "metadata": {},
   "outputs": [],
   "source": []
  }
 ],
 "metadata": {
  "kernelspec": {
   "display_name": "convo environment",
   "language": "python",
   "name": "convo_env"
  },
  "language_info": {
   "codemirror_mode": {
    "name": "ipython",
    "version": 3
   },
   "file_extension": ".py",
   "mimetype": "text/x-python",
   "name": "python",
   "nbconvert_exporter": "python",
   "pygments_lexer": "ipython3",
   "version": "3.10.12"
  }
 },
 "nbformat": 4,
 "nbformat_minor": 5
}
